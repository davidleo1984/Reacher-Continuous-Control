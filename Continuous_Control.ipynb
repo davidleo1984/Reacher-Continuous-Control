{
 "cells": [
  {
   "cell_type": "markdown",
   "metadata": {},
   "source": [
    "# Continuous Control\n",
    "\n",
    "---\n",
    "\n",
    "You are welcome to use this coding environment to train your agent for the project.  Follow the instructions below to get started!\n",
    "\n",
    "### 1. Start the Environment\n",
    "\n",
    "Run the next code cell to install a few packages.  This line will take a few minutes to run!"
   ]
  },
  {
   "cell_type": "code",
   "execution_count": 1,
   "metadata": {},
   "outputs": [
    {
     "name": "stdout",
     "output_type": "stream",
     "text": [
      "\u001b[31mtensorflow 1.7.1 has requirement numpy>=1.13.3, but you'll have numpy 1.12.1 which is incompatible.\u001b[0m\r\n",
      "\u001b[31mipython 6.5.0 has requirement prompt-toolkit<2.0.0,>=1.0.15, but you'll have prompt-toolkit 3.0.7 which is incompatible.\u001b[0m\r\n"
     ]
    }
   ],
   "source": [
    "!pip -q install ./python"
   ]
  },
  {
   "cell_type": "markdown",
   "metadata": {},
   "source": [
    "The environments corresponding to both versions of the environment are already saved in the Workspace and can be accessed at the file paths provided below.  \n",
    "\n",
    "Please select one of the two options below for loading the environment."
   ]
  },
  {
   "cell_type": "code",
   "execution_count": 2,
   "metadata": {},
   "outputs": [
    {
     "name": "stderr",
     "output_type": "stream",
     "text": [
      "INFO:unityagents:\n",
      "'Academy' started successfully!\n",
      "Unity Academy name: Academy\n",
      "        Number of Brains: 1\n",
      "        Number of External Brains : 1\n",
      "        Lesson number : 0\n",
      "        Reset Parameters :\n",
      "\t\tgoal_speed -> 1.0\n",
      "\t\tgoal_size -> 5.0\n",
      "Unity brain name: ReacherBrain\n",
      "        Number of Visual Observations (per agent): 0\n",
      "        Vector Observation space type: continuous\n",
      "        Vector Observation space size (per agent): 33\n",
      "        Number of stacked Vector Observation: 1\n",
      "        Vector Action space type: continuous\n",
      "        Vector Action space size (per agent): 4\n",
      "        Vector Action descriptions: , , , \n"
     ]
    }
   ],
   "source": [
    "from unityagents import UnityEnvironment\n",
    "import numpy as np\n",
    "\n",
    "# select this option to load version 1 (with a single agent) of the environment\n",
    "#env = UnityEnvironment(file_name='/data/Reacher_One_Linux_NoVis/Reacher_One_Linux_NoVis.x86_64')\n",
    "\n",
    "# select this option to load version 2 (with 20 agents) of the environment\n",
    "env = UnityEnvironment(file_name='/data/Reacher_Linux_NoVis/Reacher.x86_64')"
   ]
  },
  {
   "cell_type": "markdown",
   "metadata": {},
   "source": [
    "Environments contain **_brains_** which are responsible for deciding the actions of their associated agents. Here we check for the first brain available, and set it as the default brain we will be controlling from Python."
   ]
  },
  {
   "cell_type": "code",
   "execution_count": 3,
   "metadata": {},
   "outputs": [],
   "source": [
    "# get the default brain\n",
    "brain_name = env.brain_names[0]\n",
    "brain = env.brains[brain_name]"
   ]
  },
  {
   "cell_type": "markdown",
   "metadata": {},
   "source": [
    "### 2. Examine the State and Action Spaces\n",
    "\n",
    "Run the code cell below to print some information about the environment."
   ]
  },
  {
   "cell_type": "code",
   "execution_count": 4,
   "metadata": {
    "scrolled": true
   },
   "outputs": [
    {
     "name": "stdout",
     "output_type": "stream",
     "text": [
      "Number of agents: 20\n",
      "Size of each action: 4\n",
      "There are 20 agents. Each observes a state with length: 33\n",
      "The state for the first agent looks like: [  0.00000000e+00  -4.00000000e+00   0.00000000e+00   1.00000000e+00\n",
      "  -0.00000000e+00  -0.00000000e+00  -4.37113883e-08   0.00000000e+00\n",
      "   0.00000000e+00   0.00000000e+00   0.00000000e+00   0.00000000e+00\n",
      "   0.00000000e+00   0.00000000e+00  -1.00000000e+01   0.00000000e+00\n",
      "   1.00000000e+00  -0.00000000e+00  -0.00000000e+00  -4.37113883e-08\n",
      "   0.00000000e+00   0.00000000e+00   0.00000000e+00   0.00000000e+00\n",
      "   0.00000000e+00   0.00000000e+00   5.75471878e+00  -1.00000000e+00\n",
      "   5.55726624e+00   0.00000000e+00   1.00000000e+00   0.00000000e+00\n",
      "  -1.68164849e-01]\n"
     ]
    }
   ],
   "source": [
    "# reset the environment\n",
    "env_info = env.reset(train_mode=True)[brain_name]\n",
    "\n",
    "# number of agents\n",
    "num_agents = len(env_info.agents)\n",
    "print('Number of agents:', num_agents)\n",
    "\n",
    "# size of each action\n",
    "action_size = brain.vector_action_space_size\n",
    "print('Size of each action:', action_size)\n",
    "\n",
    "# examine the state space \n",
    "states = env_info.vector_observations\n",
    "state_size = states.shape[1]\n",
    "print('There are {} agents. Each observes a state with length: {}'.format(states.shape[0], state_size))\n",
    "print('The state for the first agent looks like:', states[0])"
   ]
  },
  {
   "cell_type": "markdown",
   "metadata": {},
   "source": [
    "### 3. algorithm - DDPG\n",
    "\n",
    "Deep Deterministic Policy Gradiant (DDPG) can solve problem with continuous action space. This algorithm use two neural networks (actor-critic):\n",
    "\n",
    "actor network: a policy network which maps states to actions\n",
    "\n",
    "- 1st hidden layer: fully-connected linear layer with 256 rectifier units,\n",
    "- 2nd hidden layer: fully-connected linear layer with 128 rectifier units,\n",
    "- output layer: fully-connected linear layer with 4 output nodes following by a tanh() activation function\n",
    "\n",
    "critic network: a value function network which maps (states, actions) to Q_values\n",
    "\n",
    "- 1st hidden layer: fully-connected linear layer with 256 rectifier units,\n",
    "- 2nd hidden layer: fully-connected linear layer with 128 rectifier units, input size of this layer is (256 + action_size)\n",
    "- output layer: fully-connected linear layer with 1 output nodes without nonlinearity\n",
    "\n",
    "At each time step:\n",
    "\n",
    "- the actor_local receive `states` and ouput `actions`, these actions are sent with a `noise` to the environment for `next_states` and `rewards`\n",
    "- store the experiences (including states, actions, rewards, next_states) in a memory pool\n",
    "- sample a batch of experiences from the memory pool\n",
    "- calculate target critic value and local critic value, and then calculate the `critic_loss`\n",
    "- perform a grediant descent step on the `critic_loss` and update `critic_local` network parameters\n",
    "- calculate `J` value and perform a grediant descent step on `-J`, then update `actor_local` network parameters\n",
    "- soft update the `critic_target` and `actor_target` network parameters"
   ]
  },
  {
   "cell_type": "code",
   "execution_count": 5,
   "metadata": {},
   "outputs": [],
   "source": [
    "from collections import deque\n",
    "import matplotlib.pyplot as plt\n",
    "%matplotlib inline"
   ]
  },
  {
   "cell_type": "code",
   "execution_count": 6,
   "metadata": {},
   "outputs": [
    {
     "name": "stdout",
     "output_type": "stream",
     "text": [
      "cuda:0\n"
     ]
    }
   ],
   "source": [
    "import torch\n",
    "# hyperparameters\n",
    "BUFFER_SIZE = int(1e5)  # replay buffer size\n",
    "BATCH_SIZE = 64         # minibatch size\n",
    "GAMMA = 0.99            # discount factor\n",
    "TAU = 1e-3              # for soft update of target parameters\n",
    "LR_ACTOR = 1e-4         # learning rate of the actor\n",
    "LR_CRITIC = 1e-4        # learning rate of the critic\n",
    "\n",
    "device = torch.device(\"cuda:0\" if torch.cuda.is_available() else \"cpu\")\n",
    "print(device)\n",
    "from DDPG_agent import Agent, ReplayBuffer, OUNoise\n",
    "seed = 0\n",
    "agent = Agent(device, num_agents, brain.vector_observation_space_size, brain.vector_action_space_size, seed,\n",
    "              BUFFER_SIZE, BATCH_SIZE, GAMMA, TAU, LR_ACTOR, LR_CRITIC)\n",
    "noise = OUNoise((num_agents, brain.vector_action_space_size),seed)"
   ]
  },
  {
   "cell_type": "code",
   "execution_count": 7,
   "metadata": {},
   "outputs": [
    {
     "name": "stdout",
     "output_type": "stream",
     "text": [
      "Episode :157\tScore :38.21\tAverage Score :30.225179324414583\n",
      "Environment solved at Episode 157, average score = 30.23\n"
     ]
    },
    {
     "data": {
      "image/png": "[encoded data removed]",
      "text/plain": [
       "<matplotlib.figure.Figure at 0x7fe364123eb8>"
      ]
     },
     "metadata": {
      "needs_background": "light"
     },
     "output_type": "display_data"
    }
   ],
   "source": [
    "import torch\n",
    "\n",
    "def DDPG_train(num_episodes=500):\n",
    "    scores = []\n",
    "    scores_window = deque(maxlen=100)\n",
    "    average_scores = []\n",
    "    for i in range(num_episodes):\n",
    "        brain_info = env.reset(train_mode=True)[brain_name]  # reset the environment\n",
    "        states = brain_info.vector_observations               # get the current state\n",
    "        score = np.zeros(num_agents)                          # initialize the score\n",
    "        noise.reset()                                         # reset noise for each episode\n",
    "        while True:\n",
    "            actions = np.clip(agent.act(states) + noise.sample(), -1, 1)      # add noise to actions\n",
    "            brain_info = env.step(actions)[brain_name]                        # send the action to the environment\n",
    "            next_states = brain_info.vector_observations                      # get the next state\n",
    "            rewards = brain_info.rewards                                      # get the reward\n",
    "            dones = brain_info.local_done                                     # see if episode has finished\n",
    "            score += rewards                                                  # update the score\n",
    "            agent.step(states, actions, rewards, next_states, dones)        \n",
    "            if np.any(dones):                                                 # exit loop if episode finished\n",
    "                break\n",
    "            states = next_states                                              # roll over the state to next time step\n",
    "        scores.append(np.mean(score))\n",
    "        scores_window.append(np.mean(score))\n",
    "        if len(scores_window)==100:\n",
    "            average_scores.append(np.mean(scores_window))\n",
    "\n",
    "        else:\n",
    "            average_scores.append(None)\n",
    "        print(\"\\rEpisode :{}\\tScore :{:.2f}\\tAverage Score :{}\".format(i, scores[i], average_scores[i]), end=\"\")\n",
    "\n",
    "        if i>=100 and average_scores[i]>30.0:\n",
    "            print(\"\\nEnvironment solved at Episode {}, average score = {:.2f}\".format(i,average_scores[i]))\n",
    "            break\n",
    "\n",
    "    torch.save(agent.actor_local.state_dict(), 'actor_checkpoint.pth')\n",
    "    torch.save(agent.critic_local.state_dict(), 'critic_checkpoint.pth')\n",
    "\n",
    "    fig = plt.figure()\n",
    "    plt.plot(np.arange(len(scores)), scores, label=\"episode_score\")\n",
    "    plt.plot(np.arange(len(average_scores)), average_scores, label=\"average_score\")\n",
    "    plt.legend()\n",
    "    plt.xlabel(\"Episode\")\n",
    "    plt.ylabel(\"Score\")\n",
    "    plt.show()\n",
    "\n",
    "from workspace_utils import active_session\n",
    "\n",
    "with active_session():\n",
    "    DDPG_train(num_episodes=500)"
   ]
  },
  {
   "cell_type": "markdown",
   "metadata": {},
   "source": [
    "### Future implementation\n",
    "\n",
    "I am interested in the  Distributed Distributional Deep Deterministic Policy Gradient algorithm (D4PG). Next step i would try this algorithm."
   ]
  }
 ],
 "metadata": {
  "kernelspec": {
   "display_name": "Python 3",
   "language": "python",
   "name": "python3"
  },
  "language_info": {
   "codemirror_mode": {
    "name": "ipython",
    "version": 3
   },
   "file_extension": ".py",
   "mimetype": "text/x-python",
   "name": "python",
   "nbconvert_exporter": "python",
   "pygments_lexer": "ipython3",
   "version": "3.6.3"
  }
 },
 "nbformat": 4,
 "nbformat_minor": 2
}
